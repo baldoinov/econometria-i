{
 "cells": [
  {
   "cell_type": "code",
   "execution_count": 7,
   "metadata": {},
   "outputs": [],
   "source": [
    "import pandas as pd\n",
    "import numpy as np\n",
    "import matplotlib.pyplot as plt\n",
    "\n",
    "plt.style.use(['science', 'notebook', 'grid'])"
   ]
  },
  {
   "cell_type": "code",
   "execution_count": 3,
   "metadata": {},
   "outputs": [],
   "source": [
    "df = pd.read_csv(\"dados/dados_pandemia.csv\")"
   ]
  },
  {
   "cell_type": "code",
   "execution_count": 11,
   "metadata": {},
   "outputs": [
    {
     "data": {
      "text/html": [
       "<div>\n",
       "<style scoped>\n",
       "    .dataframe tbody tr th:only-of-type {\n",
       "        vertical-align: middle;\n",
       "    }\n",
       "\n",
       "    .dataframe tbody tr th {\n",
       "        vertical-align: top;\n",
       "    }\n",
       "\n",
       "    .dataframe thead th {\n",
       "        text-align: right;\n",
       "    }\n",
       "</style>\n",
       "<table border=\"1\" class=\"dataframe\">\n",
       "  <thead>\n",
       "    <tr style=\"text-align: right;\">\n",
       "      <th></th>\n",
       "      <th>UF</th>\n",
       "      <th>nome</th>\n",
       "      <th>codmun</th>\n",
       "      <th>ano</th>\n",
       "      <th>mes</th>\n",
       "      <th>populacao</th>\n",
       "      <th>pib_capita</th>\n",
       "      <th>nascimentos</th>\n",
       "      <th>mortes</th>\n",
       "      <th>taxa_isolamento</th>\n",
       "    </tr>\n",
       "  </thead>\n",
       "  <tbody>\n",
       "    <tr>\n",
       "      <th>0</th>\n",
       "      <td>RO</td>\n",
       "      <td>Alta Floresta D'Oeste</td>\n",
       "      <td>110001</td>\n",
       "      <td>2020</td>\n",
       "      <td>2</td>\n",
       "      <td>22728</td>\n",
       "      <td>21552.47</td>\n",
       "      <td>49</td>\n",
       "      <td>10</td>\n",
       "      <td>0.313762</td>\n",
       "    </tr>\n",
       "    <tr>\n",
       "      <th>1</th>\n",
       "      <td>RO</td>\n",
       "      <td>Alta Floresta D'Oeste</td>\n",
       "      <td>110001</td>\n",
       "      <td>2020</td>\n",
       "      <td>3</td>\n",
       "      <td>22728</td>\n",
       "      <td>21552.47</td>\n",
       "      <td>42</td>\n",
       "      <td>8</td>\n",
       "      <td>0.410958</td>\n",
       "    </tr>\n",
       "    <tr>\n",
       "      <th>2</th>\n",
       "      <td>RO</td>\n",
       "      <td>Alta Floresta D'Oeste</td>\n",
       "      <td>110001</td>\n",
       "      <td>2020</td>\n",
       "      <td>4</td>\n",
       "      <td>22728</td>\n",
       "      <td>21552.47</td>\n",
       "      <td>30</td>\n",
       "      <td>11</td>\n",
       "      <td>0.411934</td>\n",
       "    </tr>\n",
       "    <tr>\n",
       "      <th>3</th>\n",
       "      <td>RO</td>\n",
       "      <td>Alta Floresta D'Oeste</td>\n",
       "      <td>110001</td>\n",
       "      <td>2020</td>\n",
       "      <td>5</td>\n",
       "      <td>22728</td>\n",
       "      <td>21552.47</td>\n",
       "      <td>24</td>\n",
       "      <td>10</td>\n",
       "      <td>0.439771</td>\n",
       "    </tr>\n",
       "    <tr>\n",
       "      <th>4</th>\n",
       "      <td>RO</td>\n",
       "      <td>Ariquemes</td>\n",
       "      <td>110002</td>\n",
       "      <td>2020</td>\n",
       "      <td>2</td>\n",
       "      <td>109523</td>\n",
       "      <td>23206.36</td>\n",
       "      <td>239</td>\n",
       "      <td>33</td>\n",
       "      <td>0.302274</td>\n",
       "    </tr>\n",
       "  </tbody>\n",
       "</table>\n",
       "</div>"
      ],
      "text/plain": [
       "   UF                   nome  codmun   ano  mes  populacao  pib_capita  \\\n",
       "0  RO  Alta Floresta D'Oeste  110001  2020    2      22728    21552.47   \n",
       "1  RO  Alta Floresta D'Oeste  110001  2020    3      22728    21552.47   \n",
       "2  RO  Alta Floresta D'Oeste  110001  2020    4      22728    21552.47   \n",
       "3  RO  Alta Floresta D'Oeste  110001  2020    5      22728    21552.47   \n",
       "4  RO              Ariquemes  110002  2020    2     109523    23206.36   \n",
       "\n",
       "   nascimentos  mortes  taxa_isolamento  \n",
       "0           49      10         0.313762  \n",
       "1           42       8         0.410958  \n",
       "2           30      11         0.411934  \n",
       "3           24      10         0.439771  \n",
       "4          239      33         0.302274  "
      ]
     },
     "metadata": {},
     "output_type": "display_data"
    },
    {
     "name": "stdout",
     "output_type": "stream",
     "text": [
      "<class 'pandas.core.frame.DataFrame'>\n",
      "RangeIndex: 14516 entries, 0 to 14515\n",
      "Data columns (total 10 columns):\n",
      " #   Column           Non-Null Count  Dtype  \n",
      "---  ------           --------------  -----  \n",
      " 0   UF               14516 non-null  object \n",
      " 1   nome             14516 non-null  object \n",
      " 2   codmun           14516 non-null  int64  \n",
      " 3   ano              14516 non-null  int64  \n",
      " 4   mes              14516 non-null  int64  \n",
      " 5   populacao        14516 non-null  int64  \n",
      " 6   pib_capita       14516 non-null  float64\n",
      " 7   nascimentos      14516 non-null  int64  \n",
      " 8   mortes           14516 non-null  int64  \n",
      " 9   taxa_isolamento  14516 non-null  float64\n",
      "dtypes: float64(2), int64(6), object(2)\n",
      "memory usage: 1.1+ MB\n"
     ]
    },
    {
     "data": {
      "text/plain": [
       "None"
      ]
     },
     "metadata": {},
     "output_type": "display_data"
    }
   ],
   "source": [
    "display(df.head())\n",
    "display(df.info())"
   ]
  },
  {
   "cell_type": "code",
   "execution_count": null,
   "metadata": {},
   "outputs": [],
   "source": [
    "# Plotar heatmap das colunas nascimentos e mortes"
   ]
  },
  {
   "cell_type": "code",
   "execution_count": null,
   "metadata": {},
   "outputs": [],
   "source": []
  },
  {
   "cell_type": "code",
   "execution_count": 8,
   "metadata": {},
   "outputs": [
    {
     "data": {
      "image/png": "[encoded data removed]",
      "text/plain": [
       "<Figure size 576x432 with 1 Axes>"
      ]
     },
     "metadata": {
      "needs_background": "light"
     },
     "output_type": "display_data"
    }
   ],
   "source": [
    "plt.hist(df['taxa_isolamento'])\n",
    "plt.show()"
   ]
  },
  {
   "cell_type": "code",
   "execution_count": 13,
   "metadata": {},
   "outputs": [
    {
     "data": {
      "text/plain": [
       "[<matplotlib.lines.Line2D at 0x22acbf6cc70>]"
      ]
     },
     "execution_count": 13,
     "metadata": {},
     "output_type": "execute_result"
    },
    {
     "data": {
      "image/png": "[encoded data removed]",
      "text/plain": [
       "<Figure size 576x432 with 1 Axes>"
      ]
     },
     "metadata": {
      "needs_background": "light"
     },
     "output_type": "display_data"
    }
   ],
   "source": [
    "df['log_pib_capita'] = np.log(df['pib_capita'])\n",
    "plt.plot('populacao', 'log_pib_capita', 'o', data=df)"
   ]
  },
  {
   "cell_type": "code",
   "execution_count": null,
   "metadata": {},
   "outputs": [],
   "source": []
  },
  {
   "cell_type": "code",
   "execution_count": null,
   "metadata": {},
   "outputs": [],
   "source": []
  },
  {
   "cell_type": "code",
   "execution_count": null,
   "metadata": {},
   "outputs": [],
   "source": []
  }
 ],
 "metadata": {
  "kernelspec": {
   "display_name": "Python 3",
   "language": "python",
   "name": "python3"
  },
  "language_info": {
   "codemirror_mode": {
    "name": "ipython",
    "version": 3
   },
   "file_extension": ".py",
   "mimetype": "text/x-python",
   "name": "python",
   "nbconvert_exporter": "python",
   "pygments_lexer": "ipython3",
   "version": "3.8.6"
  }
 },
 "nbformat": 4,
 "nbformat_minor": 4
}
